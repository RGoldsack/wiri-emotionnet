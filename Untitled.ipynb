{
 "cells": [
  {
   "cell_type": "code",
   "execution_count": null,
   "id": "6097f6b6-789f-45cc-8d54-78399d163eb8",
   "metadata": {},
   "outputs": [],
   "source": [
    "#!/usr/bin/env python\n",
    "# coding: utf-8\n",
    "\n",
    "import glob\n",
    "import sys\n",
    "from shutil import rmtree\n",
    "from os import mkdir, getcwd\n",
    "from os.path import isdir\n",
    "\n",
    "# numSplits = int(sys.argv[1])\n",
    "numSplits = 4\n",
    "job_list = []\n",
    "gpu_type = {\"phys\" : \"P100\", \"mocap\": \"A100\", \"both\": \"A100\"}\n",
    "location = \"LSTM/\"\n",
    "if isdir(location):\n",
    "    rmtree(location)\n",
    "    mkdir(location[:-1])\n",
    "else:\n",
    "    mkdir(location[:-1])\n",
    "\n",
    "if (getcwd() == \"/nfs/home/goldsaro\") or True: # Raapoi\n",
    "    for split in range(0, 8):\n",
    "        for emo in [\"cont\"]: #[\"cont\", \"6emo\", \"sum.PANAS\"]:\n",
    "            for phys in [\"phys\", \"mocap\", \"both\"]:\n",
    "                for rand in [\"shuf\", \"rand\", \"observed\"]:\n",
    "                    for valence in [\"both\", \"pos\", \"neg\"]:\n",
    "                        if emo == \"cont\":\n",
    "                            for freq in [\"33.33L\", \"66.66L\", \"1S\", \"5S\", \"10S\"]:\n",
    "                                name = \"LSTM\" + str(split) + \"_\" + str(emo)[:1].upper() + \"_\" + str(phys)[:1].upper() + \"_\" + str(rand)[:1].upper() + \"_V\" + str(valence)[:1].upper() + \"_\" + freq[0:2]\n",
    "                                filename = location + name\n",
    "                                myBat = open('%s.sh' % filename, 'wt')\n",
    "                                text = \"#!/bin/bash\\n#\\n#SBATCH --job-name=\" + name + \"\\n\" + \"#SBATCH -o errout/\" + name + \".out\" + \"\\n\" + \"#SBATCH -e errout/\" + name + \".err\" + \"\\n\" + \"#SBATCH --time=1-00:00:00\\n#SBATCH --partition=gpu\\n#SBATCH --gres=gpu:1\\n#SBATCH --ntasks=1\\n#SBATCH --mem=150G\\n#\\nmodule load singularity/3.7.3\\nmodule load CUDA/11.3.1\\nmodule load GCC/10.3.0\\nmodule load OpenMPI/4.1.1\\nmodule load TensorFlow/2.6.0-CUDA-11.3.1\\nmodule load cuDNN/8.2.1.32-CUDA-11.3.1\\n#\\n#run the container with the runscript defined when we created it\\n#nvidia-smi\\n\\npython LSTM_MO_AutoCV.py\" + \" \" + str(split) + \" \" + emo + \" \" + phys + \" \" + rand + \" \" + valence + \" \" + freq\n",
    "                                myBat.write(text)\n",
    "                                myBat.close()\n",
    "                                job_list.append('%s.sh' % filename)\n",
    "                        else:\n",
    "                                name = \"LSTM\" + str(split) + \"_\" + str(emo)[:1].upper() + \"_\" + str(phys)[:1].upper() + \"_\" + str(rand)[:1].upper() + \"_V\" + str(valence)[:1].upper()\n",
    "                                filename = location + name\n",
    "                                myBat = open('%s.sh' % filename, 'wt')\n",
    "                                text = \"#!/bin/bash\\n#\\n#SBATCH --job-name=\" + name + \"\\n\" + \"#SBATCH -o errout/\" + name + \".out\" + \"\\n\" + \"#SBATCH -e errout/\" + name + \".err\" + \"\\n\" + \"#SBATCH --time=1-00:00:00\\n#SBATCH --partition=gpu\\n#SBATCH --gres=gpu:1\\n#SBATCH --ntasks=1\\n#SBATCH --mem=150G\\n#\\nmodule load singularity/3.7.3\\nmodule load CUDA/11.3.1\\nmodule load GCC/10.3.0\\nmodule load OpenMPI/4.1.1\\nmodule load TensorFlow/2.6.0-CUDA-11.3.1\\nmodule load cuDNN/8.2.1.32-CUDA-11.3.1\\n#\\n#run the container with the runscript defined when we created it\\n#nvidia-smi\\n\\npython LSTM_MO_AutoCV.py\" + \" \" + str(split) + \" \" + emo + \" \" + phys + \" \" + rand + \" \" + valence\n",
    "                                myBat.write(text)\n",
    "                                myBat.close()\n",
    "                                job_list.append('%s.sh' % filename)\n",
    "    print(\"------- Jobs created: \", len(job_list), \"-------\")\n",
    "\n",
    "\n",
    "    location = \"/nfs/goldsaro/LSTM/\"\n",
    "\n",
    "    filename = \"LSTMsubmit\"\n",
    "    myBat = open('%s.sh' % filename, 'wt')\n",
    "\n",
    "elif (getcwd() == \"/scale_wlg_persistent/filesets/home/goldsaro\"): # NeSI\n",
    "    for split in range(4, 8):\n",
    "        for emo in [\"cont\", \"6emo\", \"sum.PANAS\", \"indiv.PANAS\"]:\n",
    "            for phys in [\"phys\", \"mocap\", \"both\"]:\n",
    "                for rand in [\"shuf\", \"rand\", \"observed\"]:\n",
    "                    for valence in [\"both\", \"pos\", \"neg\"]:\n",
    "                        name = \"LSTM\" + str(split) + \"_\" + str(emo)[:1].upper() + \"_\" + str(phys)[:1].upper() + \"_\" + str(rand)[:1].upper() + \"_V\" + str(valence)[:1].upper()\n",
    "                        filename = location + name\n",
    "                        myBat = open('%s.sl' % filename, 'wt')\n",
    "                        text = \"#!/bin/bash -e\\n#\\n#SBATCH --job-name=\" + name + \"\\n\" + \"#SBATCH -o errout/\" + name + \".out\" + \"\\n\" + \"#SBATCH -e errout/\" + name + \".err\" + \"\\n\" + \"#SBATCH --time=1-00:00:00\\n#SBATCH --gpus-per-node=\" + gpu_type[phys] + \":1 \\n#SBATCH --mem=128GB\\n#\\nmodule purge\\nmodule load CUDA/11.6.2\\nmodule load Python/3.10.5-gimkl-2022a\\nmodule load TensorFlow/2.8.2-gimkl-2022a-Python-3.10.5\\nmodule load cuDNN/8.4.1.50-CUDA-11.6.2\\n#\\n#nvidia-smi\\n\\npython LSTM_MO_AutoCV.py\" + \" \" + str(split) + \" \" + emo + \" \" + phys + \" \" + rand + \" \" + valence\n",
    "                        myBat.write(text)\n",
    "                        myBat.close()\n",
    "                        job_list.append('%s.sl' % filename)\n",
    "    print(\"------- Jobs created: \", len(job_list), \"-------\")\n",
    "\n",
    "\n",
    "    location = \"/home/goldsaro/LSTM/\"\n",
    "\n",
    "    filename = \"LSTMsubmit\"\n",
    "    myBat = open('%s.sl' % filename, 'wt')\n",
    "                        \n",
    "                        \n",
    "# print(job_list)\n",
    "\n",
    "\n",
    "text = \"#!/bin/bash\\n#\\n#SBATCH --job-name=LSTMproc\\n#SBATCH -o LSTMproc.out\\n#SBATCH -e LSTMproc.err\\n#SBATCH --time=00:30:00\\n#SBATCH --mem=1GB\\n#\\n\\n\"\n",
    "\n",
    "for file in job_list:\n",
    "    text = text + \"dos2unix \" + file + \"\\n\"\n",
    "\n",
    "text = text + \"\\n\"\n",
    "\n",
    "for file in job_list:\n",
    "    text = text + \"sbatch \" + file + \"\\n\"\n",
    "\n",
    "myBat.write(text)\n",
    "myBat.close()\n",
    "\n",
    "\n"
   ]
  },
  {
   "cell_type": "code",
   "execution_count": null,
   "id": "e1529b73-c238-4ed9-af38-dea355552812",
   "metadata": {},
   "outputs": [],
   "source": [
    "import sys \n",
    "\n",
    "print(sys.argv[1])"
   ]
  },
  {
   "cell_type": "code",
   "execution_count": 1,
   "id": "6f132762-54f5-44dc-9240-a4ed6dacb3d8",
   "metadata": {},
   "outputs": [
    {
     "name": "stdout",
     "output_type": "stream",
     "text": [
      "{'slay': 'pop', 'queen': 'pop'}\n"
     ]
    }
   ],
   "source": [
    "dict1 = {}\n",
    "\n",
    "\n",
    "for i in [\"slay\", \"queen\"]:\n",
    "    for j in [\"pussy\", \"pop\"]:\n",
    "        dict1[i] = j\n",
    "    \n",
    "print(dict1)"
   ]
  },
  {
   "cell_type": "code",
   "execution_count": 9,
   "id": "b38279ba-1990-4542-934a-cd08589229b6",
   "metadata": {},
   "outputs": [
    {
     "name": "stdout",
     "output_type": "stream",
     "text": [
      "576\n",
      "[4, 'cont', 'phys', 'rand', 'neg', '10S']\n"
     ]
    }
   ],
   "source": [
    "import json \n",
    "\n",
    "params = {}\n",
    "i = 1\n",
    "\n",
    "for split in range(0, 8):\n",
    "    for emo in [\"cont\"]: #[\"cont\", \"6emo\", \"sum.PANAS\"]:\n",
    "        for phys in [\"phys\", \"mocap\", \"both\"]:\n",
    "            for rand in [\"rand\", \"observed\"]:\n",
    "                for valence in [\"both\", \"pos\", \"neg\"]:\n",
    "                    if emo == \"cont\":\n",
    "                        for freq in [\"66.66L\", \"1S\", \"5S\", \"10S\"]:\n",
    "                            \n",
    "                            params[i] = [split, emo, phys, rand, valence, freq]\n",
    "                            i += 1\n",
    "                    else:\n",
    "                        params[i] = [split, emo, phys, rand, valence, \"\"]\n",
    "                        i += 1\n",
    "                \n",
    "with open(\"params.txt\", \"w\") as fp:\n",
    "    json.dump(params, fp)  \n",
    "    \n",
    "with open(\"params.txt\", \"r\") as fp:\n",
    "    params = json.load(fp)\n",
    "\n",
    "\n"
   ]
  }
 ],
 "metadata": {
  "kernelspec": {
   "display_name": "Python 3 (ipykernel)",
   "language": "python",
   "name": "python3"
  },
  "language_info": {
   "codemirror_mode": {
    "name": "ipython",
    "version": 3
   },
   "file_extension": ".py",
   "mimetype": "text/x-python",
   "name": "python",
   "nbconvert_exporter": "python",
   "pygments_lexer": "ipython3",
   "version": "3.9.16"
  }
 },
 "nbformat": 4,
 "nbformat_minor": 5
}
